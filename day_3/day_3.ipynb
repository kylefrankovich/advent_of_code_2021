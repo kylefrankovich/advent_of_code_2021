{
 "cells": [
  {
   "cell_type": "markdown",
   "id": "understood-stephen",
   "metadata": {},
   "source": [
    "--- Day 3: Binary Diagnostic ---\n",
    "\n",
    "The submarine has been making some odd creaking noises, so you ask it to produce a diagnostic report just in case.\n",
    "\n",
    "The diagnostic report (your puzzle input) consists of a list of binary numbers which, when decoded properly, can tell you many useful things about the conditions of the submarine. The first parameter to check is the power consumption.\n",
    "\n",
    "You need to use the binary numbers in the diagnostic report to generate two new binary numbers (called the gamma rate and the epsilon rate). The power consumption can then be found by multiplying the gamma rate by the epsilon rate.\n",
    "\n",
    "Each bit in the gamma rate can be determined by finding the most common bit in the corresponding position of all numbers in the diagnostic report. For example, given the following diagnostic report:\n",
    "\n",
    "00100\n",
    "11110\n",
    "10110\n",
    "10111\n",
    "10101\n",
    "01111\n",
    "00111\n",
    "11100\n",
    "10000\n",
    "11001\n",
    "00010\n",
    "01010\n",
    "Considering only the first bit of each number, there are five 0 bits and seven 1 bits. Since the most common bit is 1, the first bit of the gamma rate is 1.\n",
    "\n",
    "The most common second bit of the numbers in the diagnostic report is 0, so the second bit of the gamma rate is 0.\n",
    "\n",
    "The most common value of the third, fourth, and fifth bits are 1, 1, and 0, respectively, and so the final three bits of the gamma rate are 110.\n",
    "\n",
    "So, the gamma rate is the binary number 10110, or 22 in decimal.\n",
    "\n",
    "The epsilon rate is calculated in a similar way; rather than use the most common bit, the least common bit from each position is used. So, the epsilon rate is 01001, or 9 in decimal. Multiplying the gamma rate (22) by the epsilon rate (9) produces the power consumption, 198.\n",
    "\n",
    "Use the binary numbers in your diagnostic report to calculate the gamma rate and epsilon rate, then multiply them together. What is the power consumption of the submarine? (Be sure to represent your answer in decimal, not binary.)"
   ]
  },
  {
   "cell_type": "code",
   "execution_count": 2,
   "id": "regional-encounter",
   "metadata": {},
   "outputs": [
    {
     "data": {
      "text/plain": [
       "['010000010010',\n",
       " '011001011100',\n",
       " '110011011101',\n",
       " '110100100001',\n",
       " '000110011110',\n",
       " '110101000101',\n",
       " '100110111001',\n",
       " '110000000000',\n",
       " '100101100111',\n",
       " '001001011000']"
      ]
     },
     "execution_count": 2,
     "metadata": {},
     "output_type": "execute_result"
    }
   ],
   "source": [
    "# import our data:\n",
    "\n",
    "f = open('day_3_input.txt', 'r')\n",
    "diagnostic_report = f.read().splitlines()\n",
    "f.close()\n",
    "\n",
    "diagnostic_report[0:10]"
   ]
  },
  {
   "cell_type": "code",
   "execution_count": 5,
   "id": "handmade-princeton",
   "metadata": {},
   "outputs": [],
   "source": [
    "test_diagnostic_report = ['00100',\n",
    "                          '11110',\n",
    "                          '10110',\n",
    "                          '10111',\n",
    "                          '10101',\n",
    "                          '01111',\n",
    "                          '00111',\n",
    "                          '11100',\n",
    "                          '10000',\n",
    "                          '11001',\n",
    "                          '00010',\n",
    "                          '01010']"
   ]
  },
  {
   "cell_type": "code",
   "execution_count": 35,
   "id": "threatened-agenda",
   "metadata": {},
   "outputs": [
    {
     "name": "stdout",
     "output_type": "stream",
     "text": [
      "0\n",
      "1\n",
      "2\n",
      "3\n",
      "4\n"
     ]
    }
   ],
   "source": [
    "# let's try this a dumb way:\n",
    "\n",
    "for i in range(len(test_diagnostic_report[0])):\n",
    "    print(i)\n",
    "        "
   ]
  },
  {
   "cell_type": "code",
   "execution_count": 21,
   "id": "serious-edmonton",
   "metadata": {},
   "outputs": [
    {
     "name": "stdout",
     "output_type": "stream",
     "text": [
      "gamma result: 22\n",
      "epsilon result: 9\n",
      "power consumption (gamma rate x epsilon rate): 198\n"
     ]
    }
   ],
   "source": [
    "gamma_result = ''\n",
    "epsilon_result = ''\n",
    "for i in range(len(test_diagnostic_report[0])):\n",
    "    current_zero_counter = 0\n",
    "    current_one_counter = 0\n",
    "    for j in test_diagnostic_report:\n",
    "        if j[i] == '0':\n",
    "            current_zero_counter += 1\n",
    "        else:\n",
    "            current_one_counter += 1\n",
    "    if current_zero_counter > current_one_counter:\n",
    "        gamma_result += '0'\n",
    "        epsilon_result += '1'\n",
    "    else:\n",
    "        gamma_result += '1'\n",
    "        epsilon_result += '0'\n",
    "\n",
    "print('gamma result:', int(gamma_result,2))\n",
    "print('epsilon result:', int(epsilon_result,2))\n",
    "print('power consumption (gamma rate x epsilon rate):', int(gamma_result,2) * int(epsilon_result,2))"
   ]
  },
  {
   "cell_type": "code",
   "execution_count": 25,
   "id": "pleased-cleanup",
   "metadata": {},
   "outputs": [],
   "source": [
    "def calc_power_consumption(data):\n",
    "    gamma_result = ''\n",
    "    epsilon_result = ''\n",
    "    for i in range(len(data[0])):\n",
    "        current_zero_counter = 0\n",
    "        current_one_counter = 0\n",
    "        for j in data:\n",
    "            if j[i] == '0':\n",
    "                current_zero_counter += 1\n",
    "            else:\n",
    "                current_one_counter += 1\n",
    "        if current_zero_counter > current_one_counter:\n",
    "            gamma_result += '0'\n",
    "            epsilon_result += '1'\n",
    "        else:\n",
    "            gamma_result += '1'\n",
    "            epsilon_result += '0'\n",
    "    return int(gamma_result,2) * int(epsilon_result,2)\n",
    "        "
   ]
  },
  {
   "cell_type": "code",
   "execution_count": 27,
   "id": "industrial-mapping",
   "metadata": {},
   "outputs": [
    {
     "data": {
      "text/plain": [
       "3895776"
      ]
     },
     "execution_count": 27,
     "metadata": {},
     "output_type": "execute_result"
    }
   ],
   "source": [
    "calc_power_consumption(diagnostic_report)"
   ]
  },
  {
   "cell_type": "markdown",
   "id": "cubic-absorption",
   "metadata": {},
   "source": [
    "--- Part Two ---\n",
    "\n",
    "Next, you should verify the life support rating, which can be determined by multiplying the oxygen generator rating by the CO2 scrubber rating.\n",
    "\n",
    "Both the oxygen generator rating and the CO2 scrubber rating are values that can be found in your diagnostic report - finding them is the tricky part. Both values are located using a similar process that involves filtering out values until only one remains. Before searching for either rating value, start with the full list of binary numbers from your diagnostic report and consider just the first bit of those numbers. Then:\n",
    "\n",
    "Keep only numbers selected by the bit criteria for the type of rating value for which you are searching. Discard numbers which do not match the bit criteria.\n",
    "If you only have one number left, stop; this is the rating value for which you are searching.\n",
    "Otherwise, repeat the process, considering the next bit to the right.\n",
    "The bit criteria depends on which type of rating value you want to find:\n",
    "\n",
    "To find oxygen generator rating, determine the most common value (0 or 1) in the current bit position, and keep only numbers with that bit in that position. If 0 and 1 are equally common, keep values with a 1 in the position being considered.\n",
    "To find CO2 scrubber rating, determine the least common value (0 or 1) in the current bit position, and keep only numbers with that bit in that position. If 0 and 1 are equally common, keep values with a 0 in the position being considered.\n",
    "For example, to determine the oxygen generator rating value using the same example diagnostic report from above:\n",
    "\n",
    "Start with all 12 numbers and consider only the first bit of each number. There are more 1 bits (7) than 0 bits (5), so keep only the 7 numbers with a 1 in the first position: 11110, 10110, 10111, 10101, 11100, 10000, and 11001.\n",
    "Then, consider the second bit of the 7 remaining numbers: there are more 0 bits (4) than 1 bits (3), so keep only the 4 numbers with a 0 in the second position: 10110, 10111, 10101, and 10000.\n",
    "In the third position, three of the four numbers have a 1, so keep those three: 10110, 10111, and 10101.\n",
    "In the fourth position, two of the three numbers have a 1, so keep those two: 10110 and 10111.\n",
    "In the fifth position, there are an equal number of 0 bits and 1 bits (one each). So, to find the oxygen generator rating, keep the number with a 1 in that position: 10111.\n",
    "As there is only one number left, stop; the oxygen generator rating is 10111, or 23 in decimal.\n",
    "Then, to determine the CO2 scrubber rating value from the same example above:\n",
    "\n",
    "Start again with all 12 numbers and consider only the first bit of each number. There are fewer 0 bits (5) than 1 bits (7), so keep only the 5 numbers with a 0 in the first position: 00100, 01111, 00111, 00010, and 01010.\n",
    "Then, consider the second bit of the 5 remaining numbers: there are fewer 1 bits (2) than 0 bits (3), so keep only the 2 numbers with a 1 in the second position: 01111 and 01010.\n",
    "In the third position, there are an equal number of 0 bits and 1 bits (one each). So, to find the CO2 scrubber rating, keep the number with a 0 in that position: 01010.\n",
    "As there is only one number left, stop; the CO2 scrubber rating is 01010, or 10 in decimal.\n",
    "Finally, to find the life support rating, multiply the oxygen generator rating (23) by the CO2 scrubber rating (10) to get 230.\n",
    "\n",
    "Use the binary numbers in your diagnostic report to calculate the oxygen generator rating and CO2 scrubber rating, then multiply them together. What is the life support rating of the submarine? (Be sure to represent your answer in decimal, not binary.)"
   ]
  },
  {
   "cell_type": "code",
   "execution_count": 181,
   "id": "aerial-frame",
   "metadata": {},
   "outputs": [
    {
     "data": {
      "text/plain": [
       "23"
      ]
     },
     "execution_count": 181,
     "metadata": {},
     "output_type": "execute_result"
    }
   ],
   "source": [
    "def get_O2_gen_rating(input_data):\n",
    "    input_list = input_data\n",
    "\n",
    "    # O^2 generator rating: keep most common value, if 0 == 1, keep values w/ 1\n",
    "\n",
    "    while len(input_list) > 1:\n",
    "        for i in range(len(input_data[0])):\n",
    "            current_zero_counter = 0\n",
    "            current_one_counter = 0\n",
    "            for j in input_list:\n",
    "                if j[i] == '0':\n",
    "                    current_zero_counter += 1\n",
    "                elif j[i] == '1':\n",
    "                    current_one_counter += 1\n",
    "            if current_zero_counter > current_one_counter:\n",
    "                input_list = list(filter(lambda x: x[i] == '0', input_list))\n",
    "            elif current_zero_counter < current_one_counter:\n",
    "                input_list = list(filter(lambda x: x[i] == '1', input_list))\n",
    "            elif current_zero_counter == current_one_counter:\n",
    "                input_list = list(filter(lambda x: x[i] == '1', input_list)) # keep 1s when equal for O^2\n",
    "        return int(input_list[0], 2)\n",
    "\n",
    "get_O2_gen_rating(test_diagnostic_report)"
   ]
  },
  {
   "cell_type": "code",
   "execution_count": 182,
   "id": "wanted-artist",
   "metadata": {},
   "outputs": [
    {
     "name": "stdout",
     "output_type": "stream",
     "text": [
      "diagnostic report O2 gen rating: 1991\n",
      "diagnostic report CO2 scrub rating: 3982\n"
     ]
    }
   ],
   "source": [
    "# O2 gen + CO2 scrub ratings for diagnostic report:\n",
    "\n",
    "print('diagnostic report O2 gen rating:', get_O2_gen_rating(diagnostic_report))\n",
    "print('diagnostic report CO2 scrub rating:', get_CO2_scrub_rating(diagnostic_report))"
   ]
  },
  {
   "cell_type": "code",
   "execution_count": 174,
   "id": "pleasant-runner",
   "metadata": {},
   "outputs": [
    {
     "data": {
      "text/plain": [
       "10"
      ]
     },
     "execution_count": 174,
     "metadata": {},
     "output_type": "execute_result"
    }
   ],
   "source": [
    "def get_CO2_scrub_rating(input_data):\n",
    "    input_list = input_data\n",
    "\n",
    "    # O^2 generator rating: keep most common value, if 0 == 1, keep values w/ 1\n",
    "\n",
    "    while len(input_list) > 1:\n",
    "        for i in range(len(input_data[0])):\n",
    "            current_zero_counter = 0\n",
    "            current_one_counter = 0\n",
    "#             print('iteration #:',i)\n",
    "            for j in input_list:\n",
    "                if j[i] == '0':\n",
    "                    current_zero_counter += 1\n",
    "                elif j[i] == '1':\n",
    "                    current_one_counter += 1\n",
    "#             print('current 0s:', current_zero_counter)\n",
    "#             print('current 1s:', current_one_counter)\n",
    "            if current_zero_counter == current_one_counter:\n",
    "                input_list = list(filter(lambda x: x[i] == '0', input_list)) # keep 1s when equal for O^2\n",
    "#                 print('input_list zeros = ones:', input_list)\n",
    "            elif current_zero_counter > current_one_counter:\n",
    "                input_list = list(filter(lambda x: x[i] == '1', input_list))\n",
    "#                 print('input_list more zeros:', input_list)\n",
    "            elif current_zero_counter < current_one_counter:\n",
    "                input_list = list(filter(lambda x: x[i] == '0', input_list))\n",
    "#                 print('input_list more ones:', input_list)\n",
    "                \n",
    "            if len(input_list) == 1:\n",
    "                return int(input_list[0], 2)\n",
    "#                 print('CO2 scrub rating:', int(input_list[0], 2))\n",
    "\n",
    "\n",
    "get_CO2_scrub_rating(test_diagnostic_report)"
   ]
  },
  {
   "cell_type": "code",
   "execution_count": 171,
   "id": "scenic-spotlight",
   "metadata": {},
   "outputs": [
    {
     "name": "stdout",
     "output_type": "stream",
     "text": [
      "iteration #: 0\n",
      "input_list zeros: 5\n",
      "input_list ones: 7\n",
      "input_list more ones: ['00100', '01111', '00111', '00010', '01010']\n",
      "iteration #: 1\n",
      "input_list zeros: 3\n",
      "input_list ones: 2\n",
      "input_list more zeros: ['01111', '01010']\n",
      "iteration #: 2\n",
      "input_list zeros: 1\n",
      "input_list ones: 1\n",
      "input_list equal ones/zeros: ['01010']\n",
      "iteration #: 3\n",
      "input_list zeros: 0\n",
      "input_list ones: 1\n",
      "input_list more ones: []\n",
      "iteration #: 4\n",
      "input_list zeros: 0\n",
      "input_list ones: 0\n",
      "input_list equal ones/zeros: []\n",
      "input_list final: []\n"
     ]
    },
    {
     "ename": "IndexError",
     "evalue": "list index out of range",
     "output_type": "error",
     "traceback": [
      "\u001b[0;31m---------------------------------------------------------------------------\u001b[0m",
      "\u001b[0;31mIndexError\u001b[0m                                Traceback (most recent call last)",
      "\u001b[0;32m<ipython-input-171-b42dc7ca1a7b>\u001b[0m in \u001b[0;36m<module>\u001b[0;34m\u001b[0m\n\u001b[1;32m     35\u001b[0m \u001b[0;31m#         print('O^2 generator rating:', int(input_list[0], 2))\u001b[0m\u001b[0;34m\u001b[0m\u001b[0;34m\u001b[0m\u001b[0;34m\u001b[0m\u001b[0m\n\u001b[1;32m     36\u001b[0m \u001b[0;34m\u001b[0m\u001b[0m\n\u001b[0;32m---> 37\u001b[0;31m \u001b[0malt_get_O2_gen_rating\u001b[0m\u001b[0;34m(\u001b[0m\u001b[0mtest_diagnostic_report\u001b[0m\u001b[0;34m)\u001b[0m\u001b[0;34m\u001b[0m\u001b[0;34m\u001b[0m\u001b[0m\n\u001b[0m",
      "\u001b[0;32m<ipython-input-171-b42dc7ca1a7b>\u001b[0m in \u001b[0;36malt_get_O2_gen_rating\u001b[0;34m(input_data)\u001b[0m\n\u001b[1;32m     32\u001b[0m                 \u001b[0mprint\u001b[0m\u001b[0;34m(\u001b[0m\u001b[0;34m'input_list equal ones/zeros:'\u001b[0m\u001b[0;34m,\u001b[0m \u001b[0minput_list\u001b[0m\u001b[0;34m)\u001b[0m\u001b[0;34m\u001b[0m\u001b[0;34m\u001b[0m\u001b[0m\n\u001b[1;32m     33\u001b[0m         \u001b[0mprint\u001b[0m\u001b[0;34m(\u001b[0m\u001b[0;34m'input_list final:'\u001b[0m\u001b[0;34m,\u001b[0m \u001b[0minput_list\u001b[0m\u001b[0;34m)\u001b[0m\u001b[0;34m\u001b[0m\u001b[0;34m\u001b[0m\u001b[0m\n\u001b[0;32m---> 34\u001b[0;31m         \u001b[0;32mreturn\u001b[0m \u001b[0mint\u001b[0m\u001b[0;34m(\u001b[0m\u001b[0minput_list\u001b[0m\u001b[0;34m[\u001b[0m\u001b[0;36m0\u001b[0m\u001b[0;34m]\u001b[0m\u001b[0;34m,\u001b[0m \u001b[0;36m2\u001b[0m\u001b[0;34m)\u001b[0m\u001b[0;34m\u001b[0m\u001b[0;34m\u001b[0m\u001b[0m\n\u001b[0m\u001b[1;32m     35\u001b[0m \u001b[0;31m#         print('O^2 generator rating:', int(input_list[0], 2))\u001b[0m\u001b[0;34m\u001b[0m\u001b[0;34m\u001b[0m\u001b[0;34m\u001b[0m\u001b[0m\n\u001b[1;32m     36\u001b[0m \u001b[0;34m\u001b[0m\u001b[0m\n",
      "\u001b[0;31mIndexError\u001b[0m: list index out of range"
     ]
    }
   ],
   "source": [
    "# try CO2 scrub alternate:\n",
    "\n",
    "def alt_get_O2_gen_rating(input_data):\n",
    "    input_list = input_data\n",
    "\n",
    "    # O^2 generator rating: keep most common value, if 0 == 1, keep values w/ 1\n",
    "\n",
    "    while len(input_list) > 1:\n",
    "        for i in range(len(input_data[0])):\n",
    "            current_zero_counter = 0\n",
    "            current_one_counter = 0\n",
    "            print('iteration #:',  i)\n",
    "            for j in input_list:\n",
    "                if j[i] == '0':\n",
    "                    current_zero_counter += 1\n",
    "                elif j[i] == '1':\n",
    "                    current_one_counter += 1\n",
    "            if current_zero_counter > current_one_counter:\n",
    "                input_list = list(filter(lambda x: x[i] == '1', input_list))\n",
    "                print('input_list zeros:', current_zero_counter)\n",
    "                print('input_list ones:', current_one_counter)\n",
    "                print('input_list more zeros:', input_list)\n",
    "            elif current_zero_counter < current_one_counter:\n",
    "                input_list = list(filter(lambda x: x[i] == '0', input_list))\n",
    "                print('input_list zeros:', current_zero_counter)\n",
    "                print('input_list ones:', current_one_counter)\n",
    "                print('input_list more ones:', input_list)\n",
    "            elif current_zero_counter == current_one_counter:\n",
    "                input_list = list(filter(lambda x: x[i] == '0', input_list)) # keep 1s when equal for O^2\n",
    "                print('input_list zeros:', current_zero_counter)\n",
    "                print('input_list ones:', current_one_counter)\n",
    "                print('input_list equal ones/zeros:', input_list)\n",
    "        print('input_list final:', input_list)\n",
    "        return int(input_list[0], 2)\n",
    "#         print('O^2 generator rating:', int(input_list[0], 2))\n",
    "\n",
    "alt_get_O2_gen_rating(test_diagnostic_report)"
   ]
  },
  {
   "cell_type": "code",
   "execution_count": 175,
   "id": "incredible-running",
   "metadata": {},
   "outputs": [
    {
     "data": {
      "text/plain": [
       "1991"
      ]
     },
     "execution_count": 175,
     "metadata": {},
     "output_type": "execute_result"
    }
   ],
   "source": [
    "get_O2_gen_rating(diagnostic_report)\n",
    "# get_CO2_scrub_rating(input_data)"
   ]
  },
  {
   "cell_type": "code",
   "execution_count": 176,
   "id": "another-morrison",
   "metadata": {},
   "outputs": [
    {
     "data": {
      "text/plain": [
       "3982"
      ]
     },
     "execution_count": 176,
     "metadata": {},
     "output_type": "execute_result"
    }
   ],
   "source": [
    "get_CO2_scrub_rating(diagnostic_report)"
   ]
  },
  {
   "cell_type": "code",
   "execution_count": 180,
   "id": "advanced-excitement",
   "metadata": {},
   "outputs": [],
   "source": [
    "# ok, in diagnostic report, we should have a number that starts with: '01111':\n",
    "\n",
    "# int(list(filter(lambda x: x.startswith('01111'), diagnostic_report))[0],2)\n",
    "# list(filter(lambda x: x.startswith('01111'), diagnostic_report))"
   ]
  },
  {
   "cell_type": "code",
   "execution_count": 179,
   "id": "proper-infrastructure",
   "metadata": {},
   "outputs": [
    {
     "data": {
      "text/plain": [
       "7928162"
      ]
     },
     "execution_count": 179,
     "metadata": {},
     "output_type": "execute_result"
    }
   ],
   "source": [
    "# get life support rating:\n",
    "\n",
    "def get_life_support_rating(input_data):\n",
    "    return get_O2_gen_rating(input_data) * get_CO2_scrub_rating(input_data)\n",
    "\n",
    "get_life_support_rating(diagnostic_report)"
   ]
  },
  {
   "cell_type": "code",
   "execution_count": 107,
   "id": "sitting-marks",
   "metadata": {},
   "outputs": [
    {
     "name": "stdout",
     "output_type": "stream",
     "text": [
      "original input list: ['01111', '01010']\n",
      "current zero count: 1\n",
      "current ones count: 1\n",
      "input list after 1st iteration: ['01010']\n"
     ]
    }
   ],
   "source": [
    "current_zero_counter = 0\n",
    "current_one_counter = 0\n",
    "i=2\n",
    "\n",
    "# input_list = test_diagnostic_report\n",
    "print('original input list:', input_list)\n",
    "\n",
    "for j in input_list:\n",
    "    if j[i] == '0':\n",
    "        current_zero_counter += 1\n",
    "    elif j[i] == '1':\n",
    "        current_one_counter +=1\n",
    "\n",
    "print('current zero count:', current_zero_counter)\n",
    "print('current ones count:', current_one_counter)\n",
    "        \n",
    "if current_zero_counter > current_one_counter:\n",
    "    input_list = list(filter(lambda x: x[i] == '1', input_list))\n",
    "elif current_zero_counter < current_one_counter:\n",
    "    input_list = list(filter(lambda x: x[i] == '0', input_list))\n",
    "elif current_zero_counter == current_one_counter:\n",
    "#     print('test')\n",
    "    input_list = list(filter(lambda x: x[i] == '0', input_list)) # keep 1s when equal for O^2\n",
    "        \n",
    "print('input list after 1st iteration:', input_list)"
   ]
  },
  {
   "cell_type": "code",
   "execution_count": 77,
   "id": "careful-people",
   "metadata": {},
   "outputs": [
    {
     "name": "stdout",
     "output_type": "stream",
     "text": [
      "original input list: ['10110', '10111']\n",
      "current zero count: 1\n",
      "current ones count: 1\n",
      "test\n",
      "input list after 1st iteration: ['10111']\n"
     ]
    }
   ],
   "source": [
    "current_zero_counter = 0\n",
    "current_one_counter = 0\n",
    "i=4\n",
    "\n",
    "# input_list = test_diagnostic_report\n",
    "print('original input list:', input_list)\n",
    "\n",
    "for j in input_list:\n",
    "    if j[i] == '0':\n",
    "        current_zero_counter += 1\n",
    "    elif j[i] == '1':\n",
    "        current_one_counter +=1\n",
    "\n",
    "print('current zero count:', current_zero_counter)\n",
    "print('current ones count:', current_one_counter)\n",
    "        \n",
    "if current_zero_counter > current_one_counter:\n",
    "    input_list = list(filter(lambda x: x[i] == '0', input_list))\n",
    "elif current_zero_counter < current_one_counter:\n",
    "    input_list = list(filter(lambda x: x[i] == '1', input_list))\n",
    "elif current_zero_counter == current_one_counter:\n",
    "    print('test')\n",
    "    input_list = list(filter(lambda x: x[i] == '1', input_list)) # keep 1s when equal for O^2\n",
    "        \n",
    "print('input list after 1st iteration:', input_list)"
   ]
  },
  {
   "cell_type": "code",
   "execution_count": 37,
   "id": "lonely-commerce",
   "metadata": {},
   "outputs": [
    {
     "data": {
      "text/plain": [
       "['00100',\n",
       " '11110',\n",
       " '10110',\n",
       " '10111',\n",
       " '10101',\n",
       " '01111',\n",
       " '00111',\n",
       " '11100',\n",
       " '10000',\n",
       " '11001',\n",
       " '00010',\n",
       " '01010']"
      ]
     },
     "execution_count": 37,
     "metadata": {},
     "output_type": "execute_result"
    }
   ],
   "source": [
    "current_zero_counter = 0\n",
    "current_one_counter = 0\n",
    "input_list = test_diagnostic_report\n",
    "\n",
    "# input_list = test_diagnostic_report\n",
    "while len(input_list) > 0:\n",
    "    for j in input_list:\n",
    "        if j[i] == '0':\n",
    "            current_zero_counter += 1\n",
    "        elif j[i] == '1':\n",
    "            current_one_counter +=1\n",
    "\n",
    "# print('current zero count:', current_zero_counter)\n",
    "# print('current ones count:', current_one_counter)\n",
    "        \n",
    "if current_zero_counter > current_one_counter:\n",
    "    input_list = list(filter(lambda x: x[i] == '0', input_list))\n",
    "elif current_zero_counter < current_one_counter:\n",
    "    input_list = list(filter(lambda x: x[i] == '1', input_list))\n",
    "elif current_zero_counter == current_one_counter:\n",
    "    print('test')\n",
    "    input_list = list(filter(lambda x: x[i] == '1', input_list)) # keep 1s when equal for O^2\n",
    "        \n",
    "print('input list after 1st iteration:', input_list)"
   ]
  },
  {
   "cell_type": "code",
   "execution_count": 43,
   "id": "corrected-handle",
   "metadata": {},
   "outputs": [
    {
     "data": {
      "text/plain": [
       "['11110', '10110', '10111', '10101', '11100', '10000', '11001']"
      ]
     },
     "execution_count": 43,
     "metadata": {},
     "output_type": "execute_result"
    }
   ],
   "source": [
    "# filter the list down:\n",
    "\n",
    "list(filter(lambda x: x.startswith('1'), test_diagnostic_report))"
   ]
  },
  {
   "cell_type": "code",
   "execution_count": 46,
   "id": "vertical-command",
   "metadata": {},
   "outputs": [
    {
     "data": {
      "text/plain": [
       "['00100', '11110', '10110', '10111', '10101', '01111', '00111', '11100']"
      ]
     },
     "execution_count": 46,
     "metadata": {},
     "output_type": "execute_result"
    }
   ],
   "source": [
    "list(filter(lambda x: x[2] == '1', test_diagnostic_report))"
   ]
  },
  {
   "cell_type": "code",
   "execution_count": 89,
   "id": "accompanied-finding",
   "metadata": {},
   "outputs": [
    {
     "data": {
      "text/plain": [
       "['10111']"
      ]
     },
     "execution_count": 89,
     "metadata": {},
     "output_type": "execute_result"
    }
   ],
   "source": [
    "input_list"
   ]
  },
  {
   "cell_type": "code",
   "execution_count": null,
   "id": "radical-found",
   "metadata": {},
   "outputs": [],
   "source": []
  }
 ],
 "metadata": {
  "kernelspec": {
   "display_name": "Python 3",
   "language": "python",
   "name": "python3"
  },
  "language_info": {
   "codemirror_mode": {
    "name": "ipython",
    "version": 3
   },
   "file_extension": ".py",
   "mimetype": "text/x-python",
   "name": "python",
   "nbconvert_exporter": "python",
   "pygments_lexer": "ipython3",
   "version": "3.8.2"
  }
 },
 "nbformat": 4,
 "nbformat_minor": 5
}
