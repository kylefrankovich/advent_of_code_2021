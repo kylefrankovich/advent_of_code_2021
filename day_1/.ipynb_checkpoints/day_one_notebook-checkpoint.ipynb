{
 "cells": [
  {
   "cell_type": "code",
   "execution_count": 1,
   "id": "black-collapse",
   "metadata": {},
   "outputs": [
    {
     "data": {
      "text/html": [
       "<style>.container { width:85% !important; }</style>"
      ],
      "text/plain": [
       "<IPython.core.display.HTML object>"
      ]
     },
     "metadata": {},
     "output_type": "display_data"
    }
   ],
   "source": [
    "from IPython.core.display import display, HTML\n",
    "display(HTML(\"<style>.container { width:85% !important; }</style>\"))"
   ]
  },
  {
   "cell_type": "markdown",
   "id": "julian-california",
   "metadata": {},
   "source": [
    "--- Day 1: Sonar Sweep ---\n",
    "\n",
    "You're minding your own business on a ship at sea when the overboard alarm goes off! You rush to see if you can help. Apparently, one of the Elves tripped and accidentally sent the sleigh keys flying into the ocean!\n",
    "\n",
    "Before you know it, you're inside a submarine the Elves keep ready for situations like this. It's covered in Christmas lights (because of course it is), and it even has an experimental antenna that should be able to track the keys if you can boost its signal strength high enough; there's a little meter that indicates the antenna's signal strength by displaying 0-50 stars.\n",
    "\n",
    "Your instincts tell you that in order to save Christmas, you'll need to get all fifty stars by December 25th.\n",
    "\n",
    "Collect stars by solving puzzles. Two puzzles will be made available on each day in the Advent calendar; the second puzzle is unlocked when you complete the first. Each puzzle grants one star. Good luck!\n",
    "\n",
    "As the submarine drops below the surface of the ocean, it automatically performs a sonar sweep of the nearby sea floor. On a small screen, the sonar sweep report (your puzzle input) appears: each line is a measurement of the sea floor depth as the sweep looks further and further away from the submarine.\n",
    "\n",
    "For example, suppose you had the following report:\n",
    "\n",
    "199\n",
    "200\n",
    "208\n",
    "210\n",
    "200\n",
    "207\n",
    "240\n",
    "269\n",
    "260\n",
    "263\n",
    "This report indicates that, scanning outward from the submarine, the sonar sweep found depths of 199, 200, 208, 210, and so on.\n",
    "\n",
    "The first order of business is to figure out how quickly the depth increases, just so you know what you're dealing with - you never know if the keys will get carried into deeper water by an ocean current or a fish or something.\n",
    "\n",
    "To do this, count the number of times a depth measurement increases from the previous measurement. (There is no measurement before the first measurement.) In the example above, the changes are as follows:\n",
    "\n",
    "199 (N/A - no previous measurement)\n",
    "200 (increased)\n",
    "208 (increased)\n",
    "210 (increased)\n",
    "200 (decreased)\n",
    "207 (increased)\n",
    "240 (increased)\n",
    "269 (increased)\n",
    "260 (decreased)\n",
    "263 (increased)\n",
    "In this example, there are 7 measurements that are larger than the previous measurement.\n",
    "\n",
    "How many measurements are larger than the previous measurement?\n"
   ]
  },
  {
   "cell_type": "code",
   "execution_count": 1,
   "id": "paperback-prototype",
   "metadata": {},
   "outputs": [],
   "source": [
    "# import our data:\n",
    "\n",
    "f = open('day_one_input.txt', 'r')\n",
    "sonar_report = f.read().splitlines()\n",
    "f.close()\n",
    "# print(sonar_report)\n",
    "\n",
    "# alternate ways to import:\n",
    "\n",
    "input_lines = []\n",
    "with open('day_one_input.txt') as infile:\n",
    "    for line in infile:\n",
    "        input_lines.append(line.strip())\n",
    "\n",
    "input_nums = list(map(int, input_lines))\n",
    "\n",
    "input_nums\n",
    "\n",
    "# from bennett:\n",
    "\n",
    "# vals = [int(x) for x in open('inputs/01')]\n",
    "\n",
    "vals = [int(x) for x in open('day_one_input.txt')]\n",
    "\n"
   ]
  },
  {
   "cell_type": "code",
   "execution_count": 3,
   "id": "annual-nebraska",
   "metadata": {},
   "outputs": [],
   "source": [
    "# vals"
   ]
  },
  {
   "cell_type": "code",
   "execution_count": 4,
   "id": "linear-elder",
   "metadata": {},
   "outputs": [],
   "source": [
    "# need to count how many depth increases there are in our sonar data:\n",
    "\n",
    "def depth_increase_calc(data):\n",
    "    counter = 0\n",
    "    for i in range(1,len(data)):\n",
    "        if int(data[i-1]) < int(data[i]):\n",
    "            counter+=1\n",
    "    return counter"
   ]
  },
  {
   "cell_type": "code",
   "execution_count": 5,
   "id": "julian-command",
   "metadata": {},
   "outputs": [
    {
     "name": "stdout",
     "output_type": "stream",
     "text": [
      "['10110', '10107', '10112', '10119', '10135', '10133', '10121', '10130', '10125', '10127']\n"
     ]
    },
    {
     "data": {
      "text/plain": [
       "5"
      ]
     },
     "execution_count": 5,
     "metadata": {},
     "output_type": "execute_result"
    }
   ],
   "source": [
    "print(sonar_report[1980:1990])\n",
    "depth_increase_calc(sonar_report[1980:1990])"
   ]
  },
  {
   "cell_type": "code",
   "execution_count": 6,
   "id": "damaged-service",
   "metadata": {},
   "outputs": [
    {
     "data": {
      "text/plain": [
       "1711"
      ]
     },
     "execution_count": 6,
     "metadata": {},
     "output_type": "execute_result"
    }
   ],
   "source": [
    "depth_increase_calc(sonar_report)"
   ]
  },
  {
   "cell_type": "markdown",
   "id": "indirect-handy",
   "metadata": {},
   "source": [
    "--- Part Two ---\n",
    "\n",
    "Considering every single measurement isn't as useful as you expected: there's just too much noise in the data.\n",
    "\n",
    "Instead, consider sums of a three-measurement sliding window. Again considering the above example:\n",
    "\n",
    "199  A      \n",
    "200  A B    \n",
    "208  A B C  \n",
    "210    B C D\n",
    "200  E   C D\n",
    "207  E F   D\n",
    "240  E F G  \n",
    "269    F G H\n",
    "260      G H\n",
    "263        H\n",
    "Start by comparing the first and second three-measurement windows. The measurements in the first window are marked A (199, 200, 208); their sum is 199 + 200 + 208 = 607. The second window is marked B (200, 208, 210); its sum is 618. The sum of measurements in the second window is larger than the sum of the first, so this first comparison increased.\n",
    "\n",
    "Your goal now is to count the number of times the sum of measurements in this sliding window increases from the previous sum. So, compare A with B, then compare B with C, then C with D, and so on. Stop when there aren't enough measurements left to create a new three-measurement sum.\n",
    "\n",
    "In the above example, the sum of each three-measurement window is as follows:\n",
    "\n",
    "A: 607 (N/A - no previous sum)\n",
    "B: 618 (increased)\n",
    "C: 618 (no change)\n",
    "D: 617 (decreased)\n",
    "E: 647 (increased)\n",
    "F: 716 (increased)\n",
    "G: 769 (increased)\n",
    "H: 792 (increased)\n",
    "In this example, there are 5 sums that are larger than the previous sum.\n",
    "\n",
    "Consider sums of a three-measurement sliding window. How many sums are larger than the previous sum?"
   ]
  },
  {
   "cell_type": "code",
   "execution_count": 95,
   "id": "undefined-disease",
   "metadata": {},
   "outputs": [
    {
     "name": "stdout",
     "output_type": "stream",
     "text": [
      "Window:  ['137', '138', '139']\n",
      "Window:  ['138', '139', '140']\n",
      "Window:  ['139', '140', '143']\n",
      "Window:  ['140', '143', '146']\n",
      "Window:  ['143', '146', '147']\n",
      "Window:  ['146', '147', '149']\n",
      "Window:  ['147', '149', '155']\n",
      "Window:  ['149', '155', '156']\n"
     ]
    }
   ],
   "source": [
    "test_list = [199, 200, 208, 210, 200, 207, 240, 269, 260, 263]\n",
    "test_list = sonar_report[0:10]\n",
    "n=3\n",
    "for i in range(len(test_list)-n+1):\n",
    "    batch = test_list[i:i+n]\n",
    "#     batch_sum = sum(batch)\n",
    "    print('Window: ', batch)\n",
    "#     print('Sum: ', batch_sum)"
   ]
  },
  {
   "cell_type": "code",
   "execution_count": 89,
   "id": "natural-marble",
   "metadata": {},
   "outputs": [
    {
     "name": "stdout",
     "output_type": "stream",
     "text": [
      "[199, 200, 208]\n",
      "[200, 208, 210]\n",
      "[208, 210, 200]\n",
      "[210, 200, 207]\n",
      "[200, 207, 240]\n",
      "[207, 240, 269]\n",
      "[240, 269, 260]\n",
      "[269, 260, 263]\n",
      "5\n"
     ]
    }
   ],
   "source": [
    "counter = 0\n",
    "for i in range(len(test_list)-n+1):\n",
    "    cur_batch = test_list[i:i+n]\n",
    "    next_batch = test_list[(i+1):(i+1)+n]\n",
    "    print(cur_batch)\n",
    "    if sum(next_batch) > sum(cur_batch):\n",
    "        counter+=1\n",
    "#     print('current batch sum:',sum(cur_batch), 'next batch sum:', sum(next_batch))\n",
    "print(counter)"
   ]
  },
  {
   "cell_type": "code",
   "execution_count": 86,
   "id": "proof-pastor",
   "metadata": {},
   "outputs": [],
   "source": [
    "def depth_increase_count_window(data):\n",
    "    counter = 0\n",
    "    for i in range(len(data)-n+1):\n",
    "        cur_batch = data[i:i+n]\n",
    "        next_batch = data[(i+1):(i+1)+n]\n",
    "        if sum(next_batch) > sum(cur_batch):\n",
    "            counter+=1\n",
    "    return counter"
   ]
  },
  {
   "cell_type": "code",
   "execution_count": 87,
   "id": "italic-feeling",
   "metadata": {},
   "outputs": [
    {
     "data": {
      "text/plain": [
       "5"
      ]
     },
     "execution_count": 87,
     "metadata": {},
     "output_type": "execute_result"
    }
   ],
   "source": [
    "depth_increase_count_window(test_list)"
   ]
  },
  {
   "cell_type": "code",
   "execution_count": 96,
   "id": "bulgarian-nepal",
   "metadata": {},
   "outputs": [
    {
     "data": {
      "text/plain": [
       "1743"
      ]
     },
     "execution_count": 96,
     "metadata": {},
     "output_type": "execute_result"
    }
   ],
   "source": [
    "depth_increase_count_window(list(map(int, sonar_report)))"
   ]
  },
  {
   "cell_type": "code",
   "execution_count": null,
   "id": "traditional-delivery",
   "metadata": {},
   "outputs": [],
   "source": []
  },
  {
   "cell_type": "code",
   "execution_count": null,
   "id": "structural-somerset",
   "metadata": {},
   "outputs": [],
   "source": []
  },
  {
   "cell_type": "code",
   "execution_count": null,
   "id": "demonstrated-cycling",
   "metadata": {},
   "outputs": [],
   "source": []
  }
 ],
 "metadata": {
  "kernelspec": {
   "display_name": "Python 3 (ipykernel)",
   "language": "python",
   "name": "python3"
  },
  "language_info": {
   "codemirror_mode": {
    "name": "ipython",
    "version": 3
   },
   "file_extension": ".py",
   "mimetype": "text/x-python",
   "name": "python",
   "nbconvert_exporter": "python",
   "pygments_lexer": "ipython3",
   "version": "3.9.13"
  }
 },
 "nbformat": 4,
 "nbformat_minor": 5
}
